{
  "nbformat": 4,
  "nbformat_minor": 0,
  "metadata": {
    "colab": {
      "provenance": []
    },
    "kernelspec": {
      "name": "python3",
      "display_name": "Python 3"
    },
    "language_info": {
      "name": "python"
    }
  },
  "cells": [
    {
      "cell_type": "code",
      "execution_count": null,
      "metadata": {
        "colab": {
          "base_uri": "https://localhost:8080/"
        },
        "id": "1KgRZDHMCuFM",
        "outputId": "0cac8ca8-d165-46d2-a26e-19b9814c418d"
      },
      "outputs": [
        {
          "output_type": "stream",
          "name": "stdout",
          "text": [
            "Requirement already satisfied: tensorflow in /usr/local/lib/python3.10/dist-packages (2.14.0)\n",
            "Requirement already satisfied: absl-py>=1.0.0 in /usr/local/lib/python3.10/dist-packages (from tensorflow) (1.4.0)\n",
            "Requirement already satisfied: astunparse>=1.6.0 in /usr/local/lib/python3.10/dist-packages (from tensorflow) (1.6.3)\n",
            "Requirement already satisfied: flatbuffers>=23.5.26 in /usr/local/lib/python3.10/dist-packages (from tensorflow) (23.5.26)\n",
            "Requirement already satisfied: gast!=0.5.0,!=0.5.1,!=0.5.2,>=0.2.1 in /usr/local/lib/python3.10/dist-packages (from tensorflow) (0.5.4)\n",
            "Requirement already satisfied: google-pasta>=0.1.1 in /usr/local/lib/python3.10/dist-packages (from tensorflow) (0.2.0)\n",
            "Requirement already satisfied: h5py>=2.9.0 in /usr/local/lib/python3.10/dist-packages (from tensorflow) (3.9.0)\n",
            "Requirement already satisfied: libclang>=13.0.0 in /usr/local/lib/python3.10/dist-packages (from tensorflow) (16.0.6)\n",
            "Requirement already satisfied: ml-dtypes==0.2.0 in /usr/local/lib/python3.10/dist-packages (from tensorflow) (0.2.0)\n",
            "Requirement already satisfied: numpy>=1.23.5 in /usr/local/lib/python3.10/dist-packages (from tensorflow) (1.23.5)\n",
            "Requirement already satisfied: opt-einsum>=2.3.2 in /usr/local/lib/python3.10/dist-packages (from tensorflow) (3.3.0)\n",
            "Requirement already satisfied: packaging in /usr/local/lib/python3.10/dist-packages (from tensorflow) (23.2)\n",
            "Requirement already satisfied: protobuf!=4.21.0,!=4.21.1,!=4.21.2,!=4.21.3,!=4.21.4,!=4.21.5,<5.0.0dev,>=3.20.3 in /usr/local/lib/python3.10/dist-packages (from tensorflow) (3.20.3)\n",
            "Requirement already satisfied: setuptools in /usr/local/lib/python3.10/dist-packages (from tensorflow) (67.7.2)\n",
            "Requirement already satisfied: six>=1.12.0 in /usr/local/lib/python3.10/dist-packages (from tensorflow) (1.16.0)\n",
            "Requirement already satisfied: termcolor>=1.1.0 in /usr/local/lib/python3.10/dist-packages (from tensorflow) (2.3.0)\n",
            "Requirement already satisfied: typing-extensions>=3.6.6 in /usr/local/lib/python3.10/dist-packages (from tensorflow) (4.5.0)\n",
            "Requirement already satisfied: wrapt<1.15,>=1.11.0 in /usr/local/lib/python3.10/dist-packages (from tensorflow) (1.14.1)\n",
            "Requirement already satisfied: tensorflow-io-gcs-filesystem>=0.23.1 in /usr/local/lib/python3.10/dist-packages (from tensorflow) (0.34.0)\n",
            "Requirement already satisfied: grpcio<2.0,>=1.24.3 in /usr/local/lib/python3.10/dist-packages (from tensorflow) (1.59.3)\n",
            "Requirement already satisfied: tensorboard<2.15,>=2.14 in /usr/local/lib/python3.10/dist-packages (from tensorflow) (2.14.1)\n",
            "Requirement already satisfied: tensorflow-estimator<2.15,>=2.14.0 in /usr/local/lib/python3.10/dist-packages (from tensorflow) (2.14.0)\n",
            "Requirement already satisfied: keras<2.15,>=2.14.0 in /usr/local/lib/python3.10/dist-packages (from tensorflow) (2.14.0)\n",
            "Requirement already satisfied: wheel<1.0,>=0.23.0 in /usr/local/lib/python3.10/dist-packages (from astunparse>=1.6.0->tensorflow) (0.42.0)\n",
            "Requirement already satisfied: google-auth<3,>=1.6.3 in /usr/local/lib/python3.10/dist-packages (from tensorboard<2.15,>=2.14->tensorflow) (2.17.3)\n",
            "Requirement already satisfied: google-auth-oauthlib<1.1,>=0.5 in /usr/local/lib/python3.10/dist-packages (from tensorboard<2.15,>=2.14->tensorflow) (1.0.0)\n",
            "Requirement already satisfied: markdown>=2.6.8 in /usr/local/lib/python3.10/dist-packages (from tensorboard<2.15,>=2.14->tensorflow) (3.5.1)\n",
            "Requirement already satisfied: requests<3,>=2.21.0 in /usr/local/lib/python3.10/dist-packages (from tensorboard<2.15,>=2.14->tensorflow) (2.31.0)\n",
            "Requirement already satisfied: tensorboard-data-server<0.8.0,>=0.7.0 in /usr/local/lib/python3.10/dist-packages (from tensorboard<2.15,>=2.14->tensorflow) (0.7.2)\n",
            "Requirement already satisfied: werkzeug>=1.0.1 in /usr/local/lib/python3.10/dist-packages (from tensorboard<2.15,>=2.14->tensorflow) (3.0.1)\n",
            "Requirement already satisfied: cachetools<6.0,>=2.0.0 in /usr/local/lib/python3.10/dist-packages (from google-auth<3,>=1.6.3->tensorboard<2.15,>=2.14->tensorflow) (5.3.2)\n",
            "Requirement already satisfied: pyasn1-modules>=0.2.1 in /usr/local/lib/python3.10/dist-packages (from google-auth<3,>=1.6.3->tensorboard<2.15,>=2.14->tensorflow) (0.3.0)\n",
            "Requirement already satisfied: rsa<5,>=3.1.4 in /usr/local/lib/python3.10/dist-packages (from google-auth<3,>=1.6.3->tensorboard<2.15,>=2.14->tensorflow) (4.9)\n",
            "Requirement already satisfied: requests-oauthlib>=0.7.0 in /usr/local/lib/python3.10/dist-packages (from google-auth-oauthlib<1.1,>=0.5->tensorboard<2.15,>=2.14->tensorflow) (1.3.1)\n",
            "Requirement already satisfied: charset-normalizer<4,>=2 in /usr/local/lib/python3.10/dist-packages (from requests<3,>=2.21.0->tensorboard<2.15,>=2.14->tensorflow) (3.3.2)\n",
            "Requirement already satisfied: idna<4,>=2.5 in /usr/local/lib/python3.10/dist-packages (from requests<3,>=2.21.0->tensorboard<2.15,>=2.14->tensorflow) (3.6)\n",
            "Requirement already satisfied: urllib3<3,>=1.21.1 in /usr/local/lib/python3.10/dist-packages (from requests<3,>=2.21.0->tensorboard<2.15,>=2.14->tensorflow) (2.0.7)\n",
            "Requirement already satisfied: certifi>=2017.4.17 in /usr/local/lib/python3.10/dist-packages (from requests<3,>=2.21.0->tensorboard<2.15,>=2.14->tensorflow) (2023.11.17)\n",
            "Requirement already satisfied: MarkupSafe>=2.1.1 in /usr/local/lib/python3.10/dist-packages (from werkzeug>=1.0.1->tensorboard<2.15,>=2.14->tensorflow) (2.1.3)\n",
            "Requirement already satisfied: pyasn1<0.6.0,>=0.4.6 in /usr/local/lib/python3.10/dist-packages (from pyasn1-modules>=0.2.1->google-auth<3,>=1.6.3->tensorboard<2.15,>=2.14->tensorflow) (0.5.1)\n",
            "Requirement already satisfied: oauthlib>=3.0.0 in /usr/local/lib/python3.10/dist-packages (from requests-oauthlib>=0.7.0->google-auth-oauthlib<1.1,>=0.5->tensorboard<2.15,>=2.14->tensorflow) (3.2.2)\n"
          ]
        }
      ],
      "source": [
        "!pip install tensorflow\n"
      ]
    },
    {
      "cell_type": "code",
      "source": [
        "# Install library\n",
        "!pip install pandas numpy tensorflow scikit-learn\n",
        "\n",
        "import pandas as pd\n",
        "from sklearn.feature_extraction.text import TfidfVectorizer\n",
        "from sklearn.metrics.pairwise import linear_kernel\n",
        "from sklearn.preprocessing import LabelEncoder\n",
        "from tensorflow.keras.models import Sequential\n",
        "from tensorflow.keras.layers import Dense\n",
        "\n",
        "# Daftar nama file dataset\n",
        "dataset_files = [\n",
        "    \"dataset-ayam.csv\",\n",
        "    \"dataset-kambing.csv\",\n",
        "    \"dataset-sapi.csv\",\n",
        "    \"dataset-telur.csv\",\n",
        "    \"dataset-tahu.csv\",\n",
        "    \"dataset-ikan.csv\",\n",
        "    \"dataset-tempe.csv\"\n",
        "]\n",
        "\n",
        "# Buat dictionary untuk menyimpan data dari setiap dataset\n",
        "datasets = {}\n",
        "\n",
        "# Memuat dan menyimpan setiap dataset ke dalam dictionary\n",
        "for file in dataset_files:\n",
        "    category_name = file.split(\"-\")[1].split(\".\")[0]\n",
        "    datasets[category_name] = pd.read_csv(file)\n",
        "\n",
        "# Menggabungkan semua dataset menjadi satu DataFrame\n",
        "df_all = pd.concat(datasets.values(), ignore_index=True)\n"
      ],
      "metadata": {
        "colab": {
          "base_uri": "https://localhost:8080/"
        },
        "id": "J7QicZArC4yO",
        "outputId": "837d39d7-b78b-49f1-f95c-c6c3017f2d31"
      },
      "execution_count": null,
      "outputs": [
        {
          "output_type": "stream",
          "name": "stdout",
          "text": [
            "Requirement already satisfied: pandas in /usr/local/lib/python3.10/dist-packages (1.5.3)\n",
            "Requirement already satisfied: numpy in /usr/local/lib/python3.10/dist-packages (1.23.5)\n",
            "Requirement already satisfied: tensorflow in /usr/local/lib/python3.10/dist-packages (2.14.0)\n",
            "Requirement already satisfied: scikit-learn in /usr/local/lib/python3.10/dist-packages (1.2.2)\n",
            "Requirement already satisfied: python-dateutil>=2.8.1 in /usr/local/lib/python3.10/dist-packages (from pandas) (2.8.2)\n",
            "Requirement already satisfied: pytz>=2020.1 in /usr/local/lib/python3.10/dist-packages (from pandas) (2023.3.post1)\n",
            "Requirement already satisfied: absl-py>=1.0.0 in /usr/local/lib/python3.10/dist-packages (from tensorflow) (1.4.0)\n",
            "Requirement already satisfied: astunparse>=1.6.0 in /usr/local/lib/python3.10/dist-packages (from tensorflow) (1.6.3)\n",
            "Requirement already satisfied: flatbuffers>=23.5.26 in /usr/local/lib/python3.10/dist-packages (from tensorflow) (23.5.26)\n",
            "Requirement already satisfied: gast!=0.5.0,!=0.5.1,!=0.5.2,>=0.2.1 in /usr/local/lib/python3.10/dist-packages (from tensorflow) (0.5.4)\n",
            "Requirement already satisfied: google-pasta>=0.1.1 in /usr/local/lib/python3.10/dist-packages (from tensorflow) (0.2.0)\n",
            "Requirement already satisfied: h5py>=2.9.0 in /usr/local/lib/python3.10/dist-packages (from tensorflow) (3.9.0)\n",
            "Requirement already satisfied: libclang>=13.0.0 in /usr/local/lib/python3.10/dist-packages (from tensorflow) (16.0.6)\n",
            "Requirement already satisfied: ml-dtypes==0.2.0 in /usr/local/lib/python3.10/dist-packages (from tensorflow) (0.2.0)\n",
            "Requirement already satisfied: opt-einsum>=2.3.2 in /usr/local/lib/python3.10/dist-packages (from tensorflow) (3.3.0)\n",
            "Requirement already satisfied: packaging in /usr/local/lib/python3.10/dist-packages (from tensorflow) (23.2)\n",
            "Requirement already satisfied: protobuf!=4.21.0,!=4.21.1,!=4.21.2,!=4.21.3,!=4.21.4,!=4.21.5,<5.0.0dev,>=3.20.3 in /usr/local/lib/python3.10/dist-packages (from tensorflow) (3.20.3)\n",
            "Requirement already satisfied: setuptools in /usr/local/lib/python3.10/dist-packages (from tensorflow) (67.7.2)\n",
            "Requirement already satisfied: six>=1.12.0 in /usr/local/lib/python3.10/dist-packages (from tensorflow) (1.16.0)\n",
            "Requirement already satisfied: termcolor>=1.1.0 in /usr/local/lib/python3.10/dist-packages (from tensorflow) (2.3.0)\n",
            "Requirement already satisfied: typing-extensions>=3.6.6 in /usr/local/lib/python3.10/dist-packages (from tensorflow) (4.5.0)\n",
            "Requirement already satisfied: wrapt<1.15,>=1.11.0 in /usr/local/lib/python3.10/dist-packages (from tensorflow) (1.14.1)\n",
            "Requirement already satisfied: tensorflow-io-gcs-filesystem>=0.23.1 in /usr/local/lib/python3.10/dist-packages (from tensorflow) (0.34.0)\n",
            "Requirement already satisfied: grpcio<2.0,>=1.24.3 in /usr/local/lib/python3.10/dist-packages (from tensorflow) (1.59.3)\n",
            "Requirement already satisfied: tensorboard<2.15,>=2.14 in /usr/local/lib/python3.10/dist-packages (from tensorflow) (2.14.1)\n",
            "Requirement already satisfied: tensorflow-estimator<2.15,>=2.14.0 in /usr/local/lib/python3.10/dist-packages (from tensorflow) (2.14.0)\n",
            "Requirement already satisfied: keras<2.15,>=2.14.0 in /usr/local/lib/python3.10/dist-packages (from tensorflow) (2.14.0)\n",
            "Requirement already satisfied: scipy>=1.3.2 in /usr/local/lib/python3.10/dist-packages (from scikit-learn) (1.11.4)\n",
            "Requirement already satisfied: joblib>=1.1.1 in /usr/local/lib/python3.10/dist-packages (from scikit-learn) (1.3.2)\n",
            "Requirement already satisfied: threadpoolctl>=2.0.0 in /usr/local/lib/python3.10/dist-packages (from scikit-learn) (3.2.0)\n",
            "Requirement already satisfied: wheel<1.0,>=0.23.0 in /usr/local/lib/python3.10/dist-packages (from astunparse>=1.6.0->tensorflow) (0.42.0)\n",
            "Requirement already satisfied: google-auth<3,>=1.6.3 in /usr/local/lib/python3.10/dist-packages (from tensorboard<2.15,>=2.14->tensorflow) (2.17.3)\n",
            "Requirement already satisfied: google-auth-oauthlib<1.1,>=0.5 in /usr/local/lib/python3.10/dist-packages (from tensorboard<2.15,>=2.14->tensorflow) (1.0.0)\n",
            "Requirement already satisfied: markdown>=2.6.8 in /usr/local/lib/python3.10/dist-packages (from tensorboard<2.15,>=2.14->tensorflow) (3.5.1)\n",
            "Requirement already satisfied: requests<3,>=2.21.0 in /usr/local/lib/python3.10/dist-packages (from tensorboard<2.15,>=2.14->tensorflow) (2.31.0)\n",
            "Requirement already satisfied: tensorboard-data-server<0.8.0,>=0.7.0 in /usr/local/lib/python3.10/dist-packages (from tensorboard<2.15,>=2.14->tensorflow) (0.7.2)\n",
            "Requirement already satisfied: werkzeug>=1.0.1 in /usr/local/lib/python3.10/dist-packages (from tensorboard<2.15,>=2.14->tensorflow) (3.0.1)\n",
            "Requirement already satisfied: cachetools<6.0,>=2.0.0 in /usr/local/lib/python3.10/dist-packages (from google-auth<3,>=1.6.3->tensorboard<2.15,>=2.14->tensorflow) (5.3.2)\n",
            "Requirement already satisfied: pyasn1-modules>=0.2.1 in /usr/local/lib/python3.10/dist-packages (from google-auth<3,>=1.6.3->tensorboard<2.15,>=2.14->tensorflow) (0.3.0)\n",
            "Requirement already satisfied: rsa<5,>=3.1.4 in /usr/local/lib/python3.10/dist-packages (from google-auth<3,>=1.6.3->tensorboard<2.15,>=2.14->tensorflow) (4.9)\n",
            "Requirement already satisfied: requests-oauthlib>=0.7.0 in /usr/local/lib/python3.10/dist-packages (from google-auth-oauthlib<1.1,>=0.5->tensorboard<2.15,>=2.14->tensorflow) (1.3.1)\n",
            "Requirement already satisfied: charset-normalizer<4,>=2 in /usr/local/lib/python3.10/dist-packages (from requests<3,>=2.21.0->tensorboard<2.15,>=2.14->tensorflow) (3.3.2)\n",
            "Requirement already satisfied: idna<4,>=2.5 in /usr/local/lib/python3.10/dist-packages (from requests<3,>=2.21.0->tensorboard<2.15,>=2.14->tensorflow) (3.6)\n",
            "Requirement already satisfied: urllib3<3,>=1.21.1 in /usr/local/lib/python3.10/dist-packages (from requests<3,>=2.21.0->tensorboard<2.15,>=2.14->tensorflow) (2.0.7)\n",
            "Requirement already satisfied: certifi>=2017.4.17 in /usr/local/lib/python3.10/dist-packages (from requests<3,>=2.21.0->tensorboard<2.15,>=2.14->tensorflow) (2023.11.17)\n",
            "Requirement already satisfied: MarkupSafe>=2.1.1 in /usr/local/lib/python3.10/dist-packages (from werkzeug>=1.0.1->tensorboard<2.15,>=2.14->tensorflow) (2.1.3)\n",
            "Requirement already satisfied: pyasn1<0.6.0,>=0.4.6 in /usr/local/lib/python3.10/dist-packages (from pyasn1-modules>=0.2.1->google-auth<3,>=1.6.3->tensorboard<2.15,>=2.14->tensorflow) (0.5.1)\n",
            "Requirement already satisfied: oauthlib>=3.0.0 in /usr/local/lib/python3.10/dist-packages (from requests-oauthlib>=0.7.0->google-auth-oauthlib<1.1,>=0.5->tensorboard<2.15,>=2.14->tensorflow) (3.2.2)\n"
          ]
        }
      ]
    },
    {
      "cell_type": "code",
      "source": [
        "# Pemrosesan data\n",
        "tfidf_vectorizer = TfidfVectorizer(stop_words='english')\n",
        "tfidf_matrix = tfidf_vectorizer.fit_transform(df_all['Ingredients'].fillna(''))\n"
      ],
      "metadata": {
        "id": "QQ2IJ63yIKX9"
      },
      "execution_count": null,
      "outputs": []
    },
    {
      "cell_type": "code",
      "source": [
        "# Menampilkan nama kolom yang ada di DataFrame\n",
        "print(df_all.columns)\n"
      ],
      "metadata": {
        "colab": {
          "base_uri": "https://localhost:8080/"
        },
        "id": "qvVUTR9kI0Of",
        "outputId": "ce208195-ec97-45a2-9a0c-48f19866d580"
      },
      "execution_count": null,
      "outputs": [
        {
          "output_type": "stream",
          "name": "stdout",
          "text": [
            "Index(['Title', 'Ingredients', 'Steps', 'Loves', 'URL'], dtype='object')\n"
          ]
        }
      ]
    },
    {
      "cell_type": "code",
      "source": [
        "# Menampilkan jumlah dataset\n",
        "initial_dataset_count = len(df_all)\n",
        "print(f\"Jumlah dataset sebelum penyaringan: {initial_dataset_count}\")\n"
      ],
      "metadata": {
        "colab": {
          "base_uri": "https://localhost:8080/"
        },
        "id": "KUBJeSJ1e86I",
        "outputId": "300ef775-6eac-4975-c244-cc9b5d0d18d4"
      },
      "execution_count": null,
      "outputs": [
        {
          "output_type": "stream",
          "name": "stdout",
          "text": [
            "Jumlah dataset sebelum penyaringan: 13647\n"
          ]
        }
      ]
    },
    {
      "cell_type": "code",
      "source": [
        "# Menampilkan beberapa baris pertama dari DataFrame\n",
        "print(df_all.head())\n"
      ],
      "metadata": {
        "colab": {
          "base_uri": "https://localhost:8080/"
        },
        "id": "0CxAlL2oI-tw",
        "outputId": "76bdfd86-d058-4d18-ee19-9a059b4bbf86"
      },
      "execution_count": null,
      "outputs": [
        {
          "output_type": "stream",
          "name": "stdout",
          "text": [
            "                      Title  \\\n",
            "0          Ayam Woku Manado   \n",
            "1  Ayam goreng tulang lunak   \n",
            "2          Ayam cabai kawin   \n",
            "3               Ayam Geprek   \n",
            "4               Minyak Ayam   \n",
            "\n",
            "                                         Ingredients  \\\n",
            "0  1 Ekor Ayam Kampung (potong 12)--2 Buah Jeruk ...   \n",
            "1  1 kg ayam (dipotong sesuai selera jangan kecil...   \n",
            "2  1/4 kg ayam--3 buah cabai hijau besar--7 buah ...   \n",
            "3  250 gr daging ayam (saya pakai fillet)--Secuku...   \n",
            "4  400 gr kulit ayam & lemaknya--8 siung bawang p...   \n",
            "\n",
            "                                               Steps  Loves  \\\n",
            "0  Cuci bersih ayam dan tiriskan. Lalu peras jeru...      1   \n",
            "1  Haluskan bumbu2nya (BaPut, ketumbar, kemiri, k...      1   \n",
            "2  Panaskan minyak di dalam wajan. Setelah minyak...      2   \n",
            "3  Goreng ayam seperti ayam krispi--Ulek semua ba...     10   \n",
            "4  Cuci bersih kulit ayam. Sisihkan--Ambil 50 ml ...      4   \n",
            "\n",
            "                                          URL  \n",
            "0          /id/resep/4473027-ayam-woku-manado  \n",
            "1  /id/resep/4471956-ayam-goreng-tulang-lunak  \n",
            "2          /id/resep/4473057-ayam-cabai-kawin  \n",
            "3               /id/resep/4473023-ayam-geprek  \n",
            "4               /id/resep/4427438-minyak-ayam  \n"
          ]
        }
      ]
    },
    {
      "cell_type": "code",
      "source": [
        "# Filter resep berdasarkan kata kunci\n",
        "keywords_to_exclude = ['pedas', 'balado', 'Pedas', 'Geprek', 'Jeruk', 'Sambal', 'Cabai', 'cabai', 'gula', 'kafein', 'cabe', 'minyak', 'asam', 'jeruk', 'lemon']\n",
        "\n",
        "# Mengatasi nilai-nilai NaN dengan menggantinya dengan string kosong\n",
        "filtered_df['Ingredients'] = filtered_df['Ingredients'].fillna('')\n",
        "filtered_df['Title'] = filtered_df['Title'].fillna('')\n",
        "filtered_df['Steps'] = filtered_df['Steps'].fillna('')\n",
        "\n",
        "# Gunakan operator & (and) untuk menyaring data\n",
        "for keyword in keywords_to_exclude:\n",
        "    filtered_df = filtered_df[~(\n",
        "        (filtered_df['Ingredients'].str.contains(keyword, case=False)) |\n",
        "        (filtered_df['Title'].str.contains(keyword, case=False)) |\n",
        "        (filtered_df['Steps'].str.contains(keyword, case=False))\n",
        "    )]\n"
      ],
      "metadata": {
        "id": "bnmWsckHYFQG"
      },
      "execution_count": null,
      "outputs": []
    },
    {
      "cell_type": "code",
      "source": [
        "# Menampilkan jumlah dataset yang sudah terfilter\n",
        "filtered_dataset_count = len(filtered_df)\n",
        "print(f\"Jumlah dataset setelah penyaringan: {filtered_dataset_count}\")"
      ],
      "metadata": {
        "colab": {
          "base_uri": "https://localhost:8080/"
        },
        "id": "yiE3HxwsewBr",
        "outputId": "2d732ed8-1007-4325-f6b9-cd9066f0690a"
      },
      "execution_count": null,
      "outputs": [
        {
          "output_type": "stream",
          "name": "stdout",
          "text": [
            "Jumlah dataset setelah penyaringan: 934\n"
          ]
        }
      ]
    },
    {
      "cell_type": "code",
      "source": [
        "# Menampilkan beberapa baris pertama dari dataset yang telah difilter\n",
        "print(filtered_df.head())"
      ],
      "metadata": {
        "colab": {
          "base_uri": "https://localhost:8080/"
        },
        "id": "t44dysrTYkGu",
        "outputId": "918bb284-3e90-4ef4-befa-046a18e2d5f1"
      },
      "execution_count": null,
      "outputs": [
        {
          "output_type": "stream",
          "name": "stdout",
          "text": [
            "                         Title  \\\n",
            "0        Nugget Ayam Home Made   \n",
            "1           Nuttget ayam+sayur   \n",
            "2              Tim Ayam Bawang   \n",
            "3  Sup kembang tahu+bakso ayam   \n",
            "4           Nugget ayam simpel   \n",
            "\n",
            "                                         Ingredients  \\\n",
            "0  1/4 kg ayam d fillet ambil dagingnya aja--1 bu...   \n",
            "1  1 butir telur--1/2 kg Ayam--1 wortel--4 sdm te...   \n",
            "2  1 ekor ayam potong sesuai selera (saya potong ...   \n",
            "3  100 gram kembang tahu kering--2 buah wortel po...   \n",
            "4  500 gr ayam giling--6 buah bawang merah--4 baw...   \n",
            "\n",
            "                                               Steps  Loves  \\\n",
            "0  Cuci bersih ayam. Setelah itu potong kecil2. M...      6   \n",
            "1  Filet ayam ambil bagian dagingnya lalu di cinc...      4   \n",
            "2  Masukan ayam dan semua bahan kedalam 2ltr air....      6   \n",
            "3  Rendam kembang tahu dlm air kurleb 1-2 jam.ren...     13   \n",
            "4  Ulek bawang sampai halus. Sayuran di parut (se...      6   \n",
            "\n",
            "                                            URL  \n",
            "0       /id/resep/4472482-nugget-ayam-home-made  \n",
            "1           /id/resep/4469565-nuttget-ayamsayur  \n",
            "2             /id/resep/4468151-tim-ayam-bawang  \n",
            "3  /id/resep/4468155-sup-kembang-tahubakso-ayam  \n",
            "4          /id/resep/4467443-nugget-ayam-simpel  \n"
          ]
        }
      ]
    },
    {
      "cell_type": "code",
      "source": [
        "# Reset indeks pada filtered_df\n",
        "filtered_df = filtered_df.reset_index(drop=True)"
      ],
      "metadata": {
        "id": "HNBVHI2nlawX"
      },
      "execution_count": null,
      "outputs": []
    },
    {
      "cell_type": "code",
      "source": [
        "# Membuat matriks TF-IDF untuk dataset yang sudah difilter\n",
        "tfidf_vectorizer = TfidfVectorizer(stop_words='english')\n",
        "filtered_tfidf_matrix = tfidf_vectorizer.fit_transform(filtered_df['Ingredients'])"
      ],
      "metadata": {
        "id": "U7dGug-1leu0"
      },
      "execution_count": null,
      "outputs": []
    },
    {
      "cell_type": "code",
      "source": [
        "# Model machine learning\n",
        "model = Sequential([\n",
        "    Dense(128, input_shape=(tfidf_matrix.shape[1],), activation='relu'),\n",
        "    Dense(64, activation='relu'),\n",
        "    Dense(tfidf_matrix.shape[0], activation='softmax')\n",
        "])\n",
        "\n",
        "model.compile(optimizer='adam', loss='categorical_crossentropy', metrics=['accuracy'])\n"
      ],
      "metadata": {
        "id": "EbWUYwaJDnNc"
      },
      "execution_count": null,
      "outputs": []
    },
    {
      "cell_type": "code",
      "source": [
        "# Model machine learning\n",
        "cosine_similarities = linear_kernel(tfidf_matrix, tfidf_matrix)"
      ],
      "metadata": {
        "id": "Gjz6E-ZvITZk"
      },
      "execution_count": null,
      "outputs": []
    },
    {
      "cell_type": "code",
      "source": [
        "# Fungsi rekomendasi\n",
        "def recommend_recipe(title, filtered_df, cosine_similarities):\n",
        "    idx = filtered_df.index[filtered_df['Title'] == title].tolist()[0]\n",
        "    sim_scores = list(enumerate(cosine_similarities[idx]))\n",
        "    sim_scores = sorted(sim_scores, key=lambda x: x[1], reverse=True)\n",
        "    sim_scores = sim_scores[1:11]  # Ambil 10 resep teratas\n",
        "    recipe_indices = [i[0] for i in sim_scores]\n",
        "    return filtered_df.loc[recipe_indices, ['Title', 'Love']]\n"
      ],
      "metadata": {
        "id": "-n-YPrPvJtvL"
      },
      "execution_count": null,
      "outputs": []
    },
    {
      "cell_type": "code",
      "source": [
        "# Form input pengguna\n",
        "user_input = input(\"Masukkan bahan yang Anda miliki, pisahkan dengan koma: \")\n"
      ],
      "metadata": {
        "colab": {
          "base_uri": "https://localhost:8080/"
        },
        "id": "XMB_tvEtJy04",
        "outputId": "101044ec-1b27-4ede-a656-3ffb8a7ae244"
      },
      "execution_count": null,
      "outputs": [
        {
          "name": "stdout",
          "output_type": "stream",
          "text": [
            "Masukkan bahan yang Anda miliki, pisahkan dengan koma: tahu\n"
          ]
        }
      ]
    },
    {
      "cell_type": "code",
      "source": [
        "# Membuat vektor TF-IDF dari input pengguna\n",
        "user_tfidf_matrix = tfidf_vectorizer.transform([user_input])\n"
      ],
      "metadata": {
        "id": "zYQPOIoXKEJv"
      },
      "execution_count": null,
      "outputs": []
    },
    {
      "cell_type": "code",
      "source": [
        "# Hitung kesamaan antara input pengguna dan resep dalam dataset yang sudah difilter\n",
        "user_cosine_similarities = linear_kernel(user_tfidf_matrix, filtered_tfidf_matrix)\n"
      ],
      "metadata": {
        "id": "91ZelZjZKHRV"
      },
      "execution_count": null,
      "outputs": []
    },
    {
      "cell_type": "code",
      "source": [
        "# Dapatkan indeks resep yang direkomendasikan\n",
        "user_recipe_indices = user_cosine_similarities.argsort()[0][::-1][:10]\n"
      ],
      "metadata": {
        "id": "l5UR3XrKKJz7"
      },
      "execution_count": null,
      "outputs": []
    },
    {
      "cell_type": "code",
      "source": [
        "# Reset indeks pada df_all\n",
        "df_all = df_all.reset_index(drop=True)\n"
      ],
      "metadata": {
        "id": "Ixk4drmRmRhU"
      },
      "execution_count": null,
      "outputs": []
    },
    {
      "cell_type": "code",
      "source": [
        "# Tampilkan rekomendasi untuk pengguna\n",
        "user_recommendations_with_love = df_all[['Title', 'Loves']].iloc[user_recipe_indices]\n",
        "print(\"\\nResep yang direkomendasikan untuk Anda:\")\n",
        "print(user_recommendations_with_love)\n",
        "\n",
        "# Pilih resep berdasarkan input pengguna\n",
        "selected_recipe_index = int(input(\"\\nPilih nomor resep yang ingin Anda lihat langkah-langkahnya: \")) - 1\n",
        "\n",
        "# Pastikan nomor resep yang dipilih valid\n",
        "if 0 <= selected_recipe_index < len(user_recommendations_with_love):\n",
        "    selected_recipe_title = user_recommendations_with_love.iloc[selected_recipe_index]['Title']\n",
        "\n",
        "    # Dapatkan informasi resep yang dipilih\n",
        "    selected_recipe_info = df_all[df_all['Title'] == selected_recipe_title]\n",
        "\n",
        "    # Tampilkan informasi resep yang dipilih\n",
        "    print(f\"\\nInformasi untuk resep '{selected_recipe_title}':\")\n",
        "    print(\"Ingredients:\")\n",
        "    print(selected_recipe_info['Ingredients'].values[0])\n",
        "\n",
        "    print(\"\\nLangkah-langkah:\")\n",
        "    selected_recipe_steps = selected_recipe_info['Steps'].values[0]\n",
        "    print(selected_recipe_steps)\n",
        "\n",
        "    print(\"\\nLoves:\")\n",
        "    print(selected_recipe_info['Loves'].values[0])\n",
        "\n",
        "else:\n",
        "    print(\"\\nNomor resep yang dipilih tidak valid.\")\n",
        "\n"
      ],
      "metadata": {
        "colab": {
          "base_uri": "https://localhost:8080/"
        },
        "id": "wito-rDgKxpD",
        "outputId": "10ec52d9-6017-4460-84df-3f9b9916748a"
      },
      "execution_count": null,
      "outputs": [
        {
          "output_type": "stream",
          "name": "stdout",
          "text": [
            "\n",
            "Resep yang direkomendasikan untuk Anda:\n",
            "                                        Title  Loves\n",
            "652  Ayam goreng korea (korean fried chicken)      4\n",
            "883                               Buncis ayam      6\n",
            "720                         Lumpia ayam telur      0\n",
            "757                         Ayam tahu kemangi      3\n",
            "640                               Bakwan Ayam      6\n",
            "674                  Ayam goreng tanpa ungkep      1\n",
            "622              Ayam dan tempe sambel mentah      5\n",
            "428                      Opor Ayam Telor Tahu     13\n",
            "624                            Tahu Baso Ayam     11\n",
            "704                   Pepes ayam selimut tahu     37\n",
            "\n",
            "Pilih nomor resep yang ingin Anda lihat langkah-langkahnya: 5\n",
            "\n",
            "Informasi untuk resep 'Bakwan Ayam':\n",
            "Ingredients:\n",
            "1 bungkus Tepung Bumbu Instan Non MSG--Secukupnya Ayam Goreng Suwir--Secukupnya Kol Iris Halus--Secukupnya Daun Bawang Iris--Secukupnya Wortel Parut--Secukupnya Air--Secukupnya Minyak untuk menggoreng--\n",
            "\n",
            "Langkah-langkah:\n",
            "Campurkan semua bahan ke dalam wadah. Aduk rata. Goreng dalam minyak panas sampai kuning kecoklatan/matang.--\n",
            "\n",
            "Loves:\n",
            "6\n"
          ]
        }
      ]
    },
    {
      "cell_type": "code",
      "source": [
        "!pip install h5py"
      ],
      "metadata": {
        "colab": {
          "base_uri": "https://localhost:8080/"
        },
        "id": "5LTvfRgHLZM8",
        "outputId": "21db00a2-d897-4232-cf5b-5860d0953681"
      },
      "execution_count": null,
      "outputs": [
        {
          "output_type": "stream",
          "name": "stdout",
          "text": [
            "Requirement already satisfied: h5py in /usr/local/lib/python3.10/dist-packages (3.9.0)\n",
            "Requirement already satisfied: numpy>=1.17.3 in /usr/local/lib/python3.10/dist-packages (from h5py) (1.23.5)\n"
          ]
        }
      ]
    },
    {
      "cell_type": "code",
      "source": [
        "import h5py\n",
        "\n",
        "# Simpan model ke dalam file HDF5\n",
        "model.save('recommendation_model.h5')"
      ],
      "metadata": {
        "colab": {
          "base_uri": "https://localhost:8080/"
        },
        "id": "sEbk6G4sPDyM",
        "outputId": "0e9b60e0-39f6-4e79-c385-ee653e0b2c38"
      },
      "execution_count": null,
      "outputs": [
        {
          "output_type": "stream",
          "name": "stderr",
          "text": [
            "/usr/local/lib/python3.10/dist-packages/keras/src/engine/training.py:3079: UserWarning: You are saving your model as an HDF5 file via `model.save()`. This file format is considered legacy. We recommend using instead the native Keras format, e.g. `model.save('my_model.keras')`.\n",
            "  saving_api.save_model(\n"
          ]
        }
      ]
    },
    {
      "cell_type": "code",
      "source": [
        "# Download file model\n",
        "from google.colab import files\n",
        "\n",
        "files.download('recommendation_model.h5')\n"
      ],
      "metadata": {
        "colab": {
          "base_uri": "https://localhost:8080/",
          "height": 34
        },
        "id": "hZxx77imPIuR",
        "outputId": "642c15f4-5437-43ce-eeef-31da05a6b28c"
      },
      "execution_count": null,
      "outputs": [
        {
          "output_type": "display_data",
          "data": {
            "text/plain": [
              "<IPython.core.display.Javascript object>"
            ],
            "application/javascript": [
              "\n",
              "    async function download(id, filename, size) {\n",
              "      if (!google.colab.kernel.accessAllowed) {\n",
              "        return;\n",
              "      }\n",
              "      const div = document.createElement('div');\n",
              "      const label = document.createElement('label');\n",
              "      label.textContent = `Downloading \"${filename}\": `;\n",
              "      div.appendChild(label);\n",
              "      const progress = document.createElement('progress');\n",
              "      progress.max = size;\n",
              "      div.appendChild(progress);\n",
              "      document.body.appendChild(div);\n",
              "\n",
              "      const buffers = [];\n",
              "      let downloaded = 0;\n",
              "\n",
              "      const channel = await google.colab.kernel.comms.open(id);\n",
              "      // Send a message to notify the kernel that we're ready.\n",
              "      channel.send({})\n",
              "\n",
              "      for await (const message of channel.messages) {\n",
              "        // Send a message to notify the kernel that we're ready.\n",
              "        channel.send({})\n",
              "        if (message.buffers) {\n",
              "          for (const buffer of message.buffers) {\n",
              "            buffers.push(buffer);\n",
              "            downloaded += buffer.byteLength;\n",
              "            progress.value = downloaded;\n",
              "          }\n",
              "        }\n",
              "      }\n",
              "      const blob = new Blob(buffers, {type: 'application/binary'});\n",
              "      const a = document.createElement('a');\n",
              "      a.href = window.URL.createObjectURL(blob);\n",
              "      a.download = filename;\n",
              "      div.appendChild(a);\n",
              "      a.click();\n",
              "      div.remove();\n",
              "    }\n",
              "  "
            ]
          },
          "metadata": {}
        },
        {
          "output_type": "display_data",
          "data": {
            "text/plain": [
              "<IPython.core.display.Javascript object>"
            ],
            "application/javascript": [
              "download(\"download_2920c4ab-d8a1-4ccb-abd6-0bff683b15a3\", \"recommendation_model.h5\", 7143148)"
            ]
          },
          "metadata": {}
        }
      ]
    }
  ]
}